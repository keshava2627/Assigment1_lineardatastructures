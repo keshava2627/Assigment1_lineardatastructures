{
  "metadata": {
    "language_info": {
      "codemirror_mode": {
        "name": "python",
        "version": 3
      },
      "file_extension": ".py",
      "mimetype": "text/x-python",
      "name": "python",
      "nbconvert_exporter": "python",
      "pygments_lexer": "ipython3",
      "version": "3.8"
    },
    "kernelspec": {
      "name": "python",
      "display_name": "Python (Pyodide)",
      "language": "python"
    }
  },
  "nbformat_minor": 4,
  "nbformat": 4,
  "cells": [
    {
      "cell_type": "code",
      "source": " %%javascript\n    function prec(c) {\n        if(c == '^')\n            return 3;\n        else if(c == '/' || c=='*')\n            return 2;\n        else if(c == '+' || c == '-')\n            return 1;\n        else\n            return -1;\n    }\n  \n   \n    function infixToPostfix(s) {\n  \n        let st = []; //For stack operations, we are using JavaScript built in stack\n        let result = \"\";\n  \n        for(let i = 0; i < s.length; i++) {\n            let c = s[i];\n  \n            // If the scanned character is\n            // an operand, add it to output string.\n            if((c >= 'a' && c <= 'z') || (c >= 'A' && c <= 'Z') || (c >= '0' && c <= '9'))\n                result += c;\n  \n           \n            else if(c == '(')\n                st.push('(');\n  \n           \n            else if(c == ')') {\n                while(st[st.length - 1] != '(')\n                {\n                    result += st[st.length - 1];\n                    st.pop();\n                }\n                st.pop();\n            }\n  \n            else {\n                while(st.length != 0 && prec(s[i]) <= prec(st[st.length - 1])) {\n                    result += st[st.length - 1];\n                    st.pop(); \n                }\n                st.push(c);\n            }\n        }\n  \n        while(st.length != 0) {\n            result += st[st.length - 1];\n            st.pop();\n        }\n  \n        document.write(result + \"</br>\");\n    }\n      \n    let exp = \"a+b*(c^d-e)^(f+g*h)-i\";\n    infixToPostfix(exp);",
      "metadata": {},
      "execution_count": null,
      "outputs": []
    },
    {
      "cell_type": "code",
      "source": "",
      "metadata": {},
      "execution_count": null,
      "outputs": []
    },
    {
      "cell_type": "code",
      "source": "",
      "metadata": {},
      "execution_count": null,
      "outputs": []
    },
    {
      "cell_type": "code",
      "source": " %%javascript\n    function isOperator(x)\n    {\n        switch(x)\n        {\n            case '+':\n            case '-':\n            case '*':\n            case '/':\n            case '^':\n            case '%':\n                return true;\n        }\n        return false;\n    }\n    function convert(str)\n    {\n        let stack = [];\n \n        let l = str.length;\n \n        for(let i = l - 1; i >= 0; i--)\n        {\n            let c = str[i];\n \n            if (isOperator(c))\n            {\n                let op1 = stack[stack.length - 1];\n                stack.pop()\n                let op2 = stack[stack.length - 1];\n                stack.pop()\n                let temp = \"(\" + op1 + c + op2 + \")\";\n                stack.push(temp);\n            }\n            else\n            {\n \n            \n                stack.push(c + \"\");\n            }\n        }\n        return stack[stack.length - 1];\n    }\n     \n    let exp = \"*-A/BC-/AKL\";\n      \n    document.write(\"Infix : \" + convert(exp));",
      "metadata": {
        "trusted": true
      },
      "execution_count": 1,
      "outputs": [
        {
          "ename": "<class 'SyntaxError'>",
          "evalue": "invalid syntax (<ipython-input-1-172fee6e663c>, line 1)",
          "traceback": [
            "\u001b[0;36m  Cell \u001b[0;32mIn[1], line 1\u001b[0;36m\u001b[0m\n\u001b[0;31m    function isOperator(x)\u001b[0m\n\u001b[0m             ^\u001b[0m\n\u001b[0;31mSyntaxError\u001b[0m\u001b[0;31m:\u001b[0m invalid syntax\n"
          ],
          "output_type": "error"
        }
      ]
    },
    {
      "cell_type": "code",
      "source": "",
      "metadata": {},
      "execution_count": null,
      "outputs": []
    },
    {
      "cell_type": "code",
      "source": "%%javascript\nfunction brackets(expression){\n    let leftArr=[];\n    let rightArr = [];\n    for(let i=0; i<expression.length; i++){\n    if(expression[i] === '(' || expression[i] === '[' || expression[i] === \"{\"){\n       leftArr.push(expression[i]);\n        }\n        \n        \n        if(expression[i] === ')'){\n      \n        rightArr.push(\"(\");\n        }else if(expression[i] === '}'){\n        \n       rightArr.push(\"{\");\n        } else if(expression[i] === ']'){\n        \n        rightArr.push(\"[\");\n        }\n   }\n\n   rightArr.reverse();\n    \n    if(leftArr.length<rightArr.length || leftArr.length>rightArr.length){\n    return false;\n    }\n    \n    for(let k=0; k<leftArr.length; k++) {\n    if(leftArr[k] != rightArr[k]){\n       return false;\n        }\n    }\n\n    return true;\n}\n\n\n\ndocument.write(brackets('(3+{1-1)}'));",
      "metadata": {
        "trusted": true
      },
      "execution_count": 3,
      "outputs": [
        {
          "output_type": "display_data",
          "data": {
            "text/plain": "<IPython.core.display.Javascript object>",
            "application/javascript": "function brackets(expression){\n    let leftArr=[];\n    let rightArr = [];\n    for(let i=0; i<expression.length; i++){\n    if(expression[i] === '(' || expression[i] === '[' || expression[i] === \"{\"){\n       leftArr.push(expression[i]);\n        }\n        \n        \n        if(expression[i] === ')'){\n      \n        rightArr.push(\"(\");\n        }else if(expression[i] === '}'){\n        \n       rightArr.push(\"{\");\n        } else if(expression[i] === ']'){\n        \n        rightArr.push(\"[\");\n        }\n   }\n\n   rightArr.reverse();\n    \n    if(leftArr.length<rightArr.length || leftArr.length>rightArr.length){\n    return false;\n    }\n    \n    for(let k=0; k<leftArr.length; k++) {\n    if(leftArr[k] != rightArr[k]){\n       return false;\n        }\n    }\n\n    return true;\n}\n\n\n\nconsole.log(brackets('(3+{1-1)}'));\n"
          },
          "metadata": {}
        }
      ]
    },
    {
      "cell_type": "code",
      "source": "",
      "metadata": {},
      "execution_count": null,
      "outputs": []
    },
    {
      "cell_type": "code",
      "source": "%%javascript\nlet st = [];\n \nfunction insert_at_bottom(x)\n{\n    if(st.length==0)\n        st.push(x);\n    else\n    {\n       \n            let a = st.pop();\n            insert_at_bottom(x);\n  \n           \n            st.push(a);\n    }\n     \n     \n}\n \n\nfunction reverse()\n{\n    if(st.length > 0)\n        {\n              \n            \n            let x = st.pop();\n            reverse();\n              \n            \n            insert_at_bottom(x);\n        }\n}\n \n\nst.push('1');\nst.push('2');\nst.push('3');\nst.push('4');\n \ndocument.write(\"Original Stack<br>\");\n \ndocument.write(st.join(\" \")+\"<br>\");\n \n\nreverse();\n \ndocument.write(\"Reversed Stack<br>\");\n \ndocument.write(st.join(\" \"));\n",
      "metadata": {},
      "execution_count": null,
      "outputs": []
    },
    {
      "cell_type": "code",
      "source": "",
      "metadata": {},
      "execution_count": null,
      "outputs": []
    },
    {
      "cell_type": "code",
      "source": "%%javascript\nClass MyStack {\n    constructor() {\n        this.s = [];\n        this.minEle;\n    }\n \n    \n    getMin() {\n        if (this.s.length == 0)\n            document.write(\"Stack is empty\");\n \n       \n        else\n            document.write(\"Minimum Element in the stack is: \", this.minEle);\n    }\n \n    \n    peek() {\n        if (this.s.length == 0) {\n            console.log(\"Stack is empty \");\n            return;\n        }\n        let t = this.s[0]; // Top element.\n \n        document.write(\"Top Most Element is: \");\n \n       \n        (t < this.minEle) ? console.log(this.minEle) : console.log(t);\n \n    }\n \n   \n    pop() {\n        if (this.s.length == 0) {\n            document.write(\"Stack is empty \");\n            return;\n        }\n        document.write(\"Top Most Element Removed: \");\n        let t = this.s[0]; // Top element.\n        this.s.shift();\n \n       \n        if (t < this.minEle) {\n            console.log(this.minEle);\n            this.minEle = (2 * this.minEle) - t;\n        }\n \n        else\n            console.log(t);\n    }\n \n  \n    push(x) {\n       \n        if (this.s.length == 0) {\n            this.minEle = x;\n            this.s.unshift(x);\n            console.log(\"Number Inserted: \", x);\n            return;\n        }\n \n       \n        else if (x < this.minEle) {\n            this.s.unshift(2 * x - this.minEle);\n            this.minEle = x;\n        }\n \n        else\n            this.s.unshift(x);\n \n        document.write(\"Number Inserted: \", x);\n    }\n \n \n};\n \n let s = new MyStack;\n \n\ns.push(3);\ns.push(5);\ns.getMin();\ns.push(2);\ns.push(1);\ns.getMin();\ns.pop();\ns.getMin();\ns.pop();\ns.peek();",
      "metadata": {
        "trusted": true
      },
      "execution_count": 6,
      "outputs": [
        {
          "ename": "<class 'SyntaxError'>",
          "evalue": "iterable argument unpacking follows keyword argument unpacking (<ipython-input-6-7957a469ffd8>, line 1)",
          "traceback": [
            "\u001b[0;36m  Cell \u001b[0;32mIn[6], line 1\u001b[0;36m\u001b[0m\n\u001b[0;31m    *Q9(starts, */)\u001b[0m\n\u001b[0m        ^\u001b[0m\n\u001b[0;31mSyntaxError\u001b[0m\u001b[0;31m:\u001b[0m iterable argument unpacking follows keyword argument unpacking\n"
          ],
          "output_type": "error"
        }
      ]
    },
    {
      "cell_type": "code",
      "source": "",
      "metadata": {},
      "execution_count": null,
      "outputs": []
    },
    {
      "cell_type": "code",
      "source": "%%javascript\nfunction towerOfHanoi(n, from_rod,  to_rod,  aux_rod)\n{\n        if (n == 0)\n        {\n            return;\n        }\n        towerOfHanoi(n - 1, from_rod, aux_rod, to_rod);\n        document.write(\"Move disk \" + n + \" from rod \" + from_rod +\n        \" to rod \" + to_rod+\"<br/>\");\n        towerOfHanoi(n - 1, aux_rod, to_rod, from_rod);\n    }\n  \n    var N = 3;\n    towerOfHanoi(N, 'A', 'C', 'B');",
      "metadata": {},
      "execution_count": null,
      "outputs": []
    },
    {
      "cell_type": "code",
      "source": "",
      "metadata": {},
      "execution_count": null,
      "outputs": []
    },
    {
      "cell_type": "code",
      "source": "%%javascript\nconst string = \"kesava\";\nlet index = -1;\nlet fnc = ' ';\n \nif(string.length == 0){\ndocument.write(\"EMPTY STRING\");\n}\n \nfor (let i of string) {\n    if (string.split(i).length - 1 === 1) {\n        fnc = i;\n        break;\n    } else {\n        index += 1;\n    }\n}\nif (index === string.length-1) {\n    document.write(\"All characters are repeating.\");\n} else {\n    document.write(`First non-repeating character is ${fnc}`);\n}",
      "metadata": {
        "trusted": true
      },
      "execution_count": 3,
      "outputs": [
        {
          "output_type": "display_data",
          "data": {
            "text/plain": "<IPython.core.display.Javascript object>",
            "application/javascript": "const string = \"kesava\";\nlet index = -1;\nlet fnc = ' ';\n \nif(string.length == 0){\ndocument.write(\"EMPTY STRING\");\n}\n \nfor (let i of string) {\n    if (string.split(i).length - 1 === 1) {\n        fnc = i;\n        break;\n    } else {\n        index += 1;\n    }\n}\nif (index === string.length-1) {\n    document.write(\"All characters are repeating.\");\n} else {\n    documwnt.write(`First non-repeating character is ${fnc}`);\n}\n"
          },
          "metadata": {}
        }
      ]
    },
    {
      "cell_type": "code",
      "source": "",
      "metadata": {},
      "execution_count": null,
      "outputs": []
    },
    {
      "cell_type": "code",
      "source": "%%javascript\nfunction checkString(s1, s2, indexFound, Size)\n{\n    for(let i = 0; i < Size; i++)\n    {\n     \n        \n        if(s1[i] != s2[(indexFound + i) % Size])return false;\n         \n       \n \n    return true;\n}\n \n\nlet s1 = \"abcd\";\nlet s2 = \"cdab\";\n \nif(s1.length != s2.length)\n{\n    document.write(\"s2 is not a rotation on s1\");\n}\nelse\n{\n     \n    let indexes = []; \n    let Size = s1.length;\n    let firstChar = s1[0];\n    for(let i = 0; i < Size; i++)\n    {\n        if(s2[i] == firstChar)\n        {\n            indexes.push(i);\n        }\n    }\n \n    let isRotation = false;\n \n   \n    for(let idx of indexes)\n    {\n        isRotation = checkString(s1, s2, idx, Size);\n \n        if(isRotation)\n            break;\n    }\n \n    if(isRotation)document.write(\"s2 is rotation of s1\")\n    else document.write(\"s2 is not a rotation of s1\")\n}",
      "metadata": {
        "trusted": true
      },
      "execution_count": 2,
      "outputs": [
        {
          "output_type": "display_data",
          "data": {
            "text/plain": "<IPython.core.display.Javascript object>",
            "application/javascript": "function checkString(s1, s2, indexFound, Size)\n{\n    for(let i = 0; i < Size; i++)\n    {\n     \n        \n        if(s1[i] != s2[(indexFound + i) % Size])return false;\n         \n       \n \n    return true;\n}\n \n\nlet s1 = \"abcd\";\nlet s2 = \"cdab\";\n \nif(s1.length != s2.length)\n{\n    document.write(\"s2 is not a rotation on s1\");\n}\nelse\n{\n     \n    let indexes = []; \n    let Size = s1.length;\n    let firstChar = s1[0];\n    for(let i = 0; i < Size; i++)\n    {\n        if(s2[i] == firstChar)\n        {\n            indexes.push(i);\n        }\n    }\n \n    let isRotation = false;\n \n   \n    for(let idx of indexes)\n    {\n        isRotation = checkString(s1, s2, idx, Size);\n \n        if(isRotation)\n            break;\n    }\n \n    if(isRotation)document.write(\"s2 is rotation of s1\")\n    else document.write(\"s2 is not a rotation of s1\")\n}\n"
          },
          "metadata": {}
        }
      ]
    },
    {
      "cell_type": "code",
      "source": "",
      "metadata": {},
      "execution_count": null,
      "outputs": []
    },
    {
      "cell_type": "code",
      "source": "%%javascript\nfunction rvereseArray(arr,start,end)\n{\n    while (start < end)\n    {   \n        var temp = arr[start];\n        arr[start] = arr[end];\n        arr[end] = temp;\n        start++;\n        end--;\n    }\n}    \n   \nfunction printArray(arr,size)\n{\n   for (var i = 0; i < size; i++){\n   document.write(arr[i]);\n   }\n}\n   \n\n    var arr= [1, 2, 3, 4, 5, 6];\n    var n = 6;\n  \n    printArray(arr, n);\n       \n    \n    rvereseArray(arr, 0, n-1);\n       \n    document.write(\"Reversed array is\"); \n       \n    \n    printArray(arr, n);",
      "metadata": {
        "trusted": true
      },
      "execution_count": 3,
      "outputs": [
        {
          "output_type": "display_data",
          "data": {
            "text/plain": "<IPython.core.display.Javascript object>",
            "application/javascript": "function rvereseArray(arr,start,end)\n{\n    while (start < end)\n    {   \n        var temp = arr[start];\n        arr[start] = arr[end];\n        arr[end] = temp;\n        start++;\n        end--;\n    }\n}    \n   \nfunction printArray(arr,size)\n{\n   for (var i = 0; i < size; i++){\n   console.log(arr[i]);\n   }\n}\n   \n\n    var arr= [1, 2, 3, 4, 5, 6];\n    var n = 6;\n  \n    printArray(arr, n);\n       \n    \n    rvereseArray(arr, 0, n-1);\n       \n    console.log(\"Reversed array is\"); \n       \n    \n    printArray(arr, n);\n"
          },
          "metadata": {}
        }
      ]
    },
    {
      "cell_type": "code",
      "source": "",
      "metadata": {},
      "execution_count": null,
      "outputs": []
    },
    {
      "cell_type": "code",
      "source": "%%javascript\nfunction printPairs(arr, n, sum)\n{\n    let count = 0; // Initialize result\n \n    \n    for (let i = 0; i < n; i++)\n        for (let j = i + 1; j < n; j++)\n            if (arr[i] + arr[j] == sum)\n                 document.write(\"(\" + arr[i] + \", \"\n                    + arr[j] + \")\" + \"<br>\");\n}\n \n \n    let arr = [ 1, 5, 7, -1, 5 ];\n    let n = arr.length;\n    let sum = 6;\n    printPairs(arr, n, sum);",
      "metadata": {},
      "execution_count": null,
      "outputs": []
    }
  ]
}